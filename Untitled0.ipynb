{
  "nbformat": 4,
  "nbformat_minor": 0,
  "metadata": {
    "colab": {
      "name": "Untitled0.ipynb",
      "provenance": [],
      "authorship_tag": "ABX9TyOG7jGO65S1+/Od7OHl7ZIj",
      "include_colab_link": true
    },
    "kernelspec": {
      "name": "python3",
      "display_name": "Python 3"
    },
    "language_info": {
      "name": "python"
    }
  },
  "cells": [
    {
      "cell_type": "markdown",
      "metadata": {
        "id": "view-in-github",
        "colab_type": "text"
      },
      "source": [
        "<a href=\"https://colab.research.google.com/github/DianeReillo/ie-trends-activity/blob/main/Untitled0.ipynb\" target=\"_parent\"><img src=\"https://colab.research.google.com/assets/colab-badge.svg\" alt=\"Open In Colab\"/></a>"
      ]
    },
    {
      "cell_type": "code",
      "metadata": {
        "id": "B8MScwRqvuWY"
      },
      "source": [
        ""
      ],
      "execution_count": null,
      "outputs": []
    },
    {
      "cell_type": "markdown",
      "metadata": {
        "id": "4K0qag5txEnB"
      },
      "source": [
        "Python Basics \n"
      ]
    },
    {
      "cell_type": "code",
      "metadata": {
        "id": "T6KA2lRxvy_9"
      },
      "source": [
        " All the prgramming Fundamentals \n",
        " \n",
        "\n"
      ],
      "execution_count": null,
      "outputs": []
    },
    {
      "cell_type": "code",
      "metadata": {
        "id": "OJvofZ0IxSf6"
      },
      "source": [
        "X= 1\n",
        "a= 'a'\n",
        "y= 3.14\n"
      ],
      "execution_count": 6,
      "outputs": []
    },
    {
      "cell_type": "code",
      "metadata": {
        "id": "PzPQDcsjyGM7"
      },
      "source": [
        "x=10\n",
        "y= 3.14 "
      ],
      "execution_count": 14,
      "outputs": []
    },
    {
      "cell_type": "code",
      "metadata": {
        "id": "GhXXrxFXxXnh",
        "outputId": "20520814-5ff3-40da-a75f-f5d64ac37787",
        "colab": {
          "base_uri": "https://localhost:8080/"
        }
      },
      "source": [
        "\n",
        "print(x) \n",
        "print(y)"
      ],
      "execution_count": 15,
      "outputs": [
        {
          "output_type": "stream",
          "text": [
            "10\n",
            "3.14\n"
          ],
          "name": "stdout"
        }
      ]
    },
    {
      "cell_type": "code",
      "metadata": {
        "id": "ApYWgjduzFru",
        "outputId": "e555fed2-ad76-4366-f3e1-ad1c457bc6e1",
        "colab": {
          "base_uri": "https://localhost:8080/"
        }
      },
      "source": [
        "## Addition (also a comment line)\n",
        "z=x+y \n",
        "## Subtract \n",
        "z2=x-y\n",
        "## Multiplication \n",
        "z3=x*y \n",
        "## Division\n",
        "z4=x/y \n",
        "\n",
        "z4\n"
      ],
      "execution_count": 24,
      "outputs": [
        {
          "output_type": "execute_result",
          "data": {
            "text/plain": [
              "3.184713375796178"
            ]
          },
          "metadata": {
            "tags": []
          },
          "execution_count": 24
        }
      ]
    },
    {
      "cell_type": "markdown",
      "metadata": {
        "id": "UBMXGZpKx5B-"
      },
      "source": [
        ""
      ]
    },
    {
      "cell_type": "code",
      "metadata": {
        "id": "ssCt-t_b0uuT",
        "outputId": "24d484eb-c8d4-4c0c-e507-f4f58fddfd21",
        "colab": {
          "base_uri": "https://localhost:8080/"
        }
      },
      "source": [
        "## Exponentiation \n",
        "z5=2**5\n",
        "## Floor Divsion\n",
        "z6= round(19/2)\n",
        "print(z6)\n",
        "## Trigonometric \n",
        "import math\n",
        "# math.sin(y) + math.cos(x)\n",
        "\n"
      ],
      "execution_count": 31,
      "outputs": [
        {
          "output_type": "stream",
          "text": [
            "10\n"
          ],
          "name": "stdout"
        }
      ]
    },
    {
      "cell_type": "markdown",
      "metadata": {
        "id": "E1Bd3DEz15Cv"
      },
      "source": [
        "$sin$ y+ $cos$ x\n"
      ]
    },
    {
      "cell_type": "markdown",
      "metadata": {
        "id": "tYtcZJ2M2wPy"
      },
      "source": [
        "# Loops\n"
      ]
    },
    {
      "cell_type": "markdown",
      "metadata": {
        "id": "yD3JOqoo3ygD"
      },
      "source": [
        ""
      ]
    },
    {
      "cell_type": "markdown",
      "metadata": {
        "id": "rH8l_WYG30h8"
      },
      "source": [
        "$\\sum{sin(i)+\\cos(i+\\pi)}$\n"
      ]
    },
    {
      "cell_type": "code",
      "metadata": {
        "id": "gPZ2uRLT21KM",
        "outputId": "1c78f5be-a463-4231-ec66-e03dccfaaea4",
        "colab": {
          "base_uri": "https://localhost:8080/"
        }
      },
      "source": [
        " ## Summation \n",
        " tz=0\n",
        " for i in range (0,10):##range(min,max)-->min to max-1\n",
        "  tz += math.sin(i)+math.cos(i+math.pi)\n",
        "  print(tz)"
      ],
      "execution_count": 44,
      "outputs": [
        {
          "output_type": "stream",
          "text": [
            "-1.0\n",
            "-0.6988313210602433\n",
            "0.6266129423125808\n",
            "1.7577254469728933\n",
            "1.6545665725285772\n",
            "0.41198011240221266\n",
            "-0.827605672447079\n",
            "-0.9245213280715947\n",
            "0.2103369523604004\n",
            "1.533585699486834\n"
          ],
          "name": "stdout"
        }
      ]
    },
    {
      "cell_type": "markdown",
      "metadata": {
        "id": "S4t60mt555jO"
      },
      "source": [
        "Functions \n"
      ]
    },
    {
      "cell_type": "markdown",
      "metadata": {
        "id": "iNW9PFVD6lmL"
      },
      "source": [
        ""
      ]
    },
    {
      "cell_type": "markdown",
      "metadata": {
        "id": "rl8WS2Ks6nzp"
      },
      "source": [
        ""
      ]
    },
    {
      "cell_type": "code",
      "metadata": {
        "id": "IwY_43zt3NnG",
        "outputId": "da268b2a-b0ca-4c43-eb48-47cd9b0f9fde",
        "colab": {
          "base_uri": "https://localhost:8080/",
          "height": 129
        }
      },
      "source": [
        "$sum -i^2$\n",
        "\n"
      ],
      "execution_count": 53,
      "outputs": [
        {
          "output_type": "error",
          "ename": "SyntaxError",
          "evalue": "ignored",
          "traceback": [
            "\u001b[0;36m  File \u001b[0;32m\"<ipython-input-53-2500b0b9cd07>\"\u001b[0;36m, line \u001b[0;32m1\u001b[0m\n\u001b[0;31m    $sum -i^2$\u001b[0m\n\u001b[0m    ^\u001b[0m\n\u001b[0;31mSyntaxError\u001b[0m\u001b[0;31m:\u001b[0m invalid syntax\n"
          ]
        }
      ]
    },
    {
      "cell_type": "code",
      "metadata": {
        "id": "W0LfxceL6YIV",
        "outputId": "2e9c3108-6919-472f-e7c7-417875402d8f",
        "colab": {
          "base_uri": "https://localhost:8080/",
          "height": 129
        }
      },
      "source": [
        "s=0 \n",
        "for i in range (0,10)\n",
        "s+=i \n",
        "h=s-i**2\n",
        "print(h)"
      ],
      "execution_count": 46,
      "outputs": [
        {
          "output_type": "error",
          "ename": "SyntaxError",
          "evalue": "ignored",
          "traceback": [
            "\u001b[0;36m  File \u001b[0;32m\"<ipython-input-46-59b5a4e14e32>\"\u001b[0;36m, line \u001b[0;32m2\u001b[0m\n\u001b[0;31m    for i in range (0,10)\u001b[0m\n\u001b[0m                         ^\u001b[0m\n\u001b[0;31mSyntaxError\u001b[0m\u001b[0;31m:\u001b[0m invalid syntax\n"
          ]
        }
      ]
    },
    {
      "cell_type": "code",
      "metadata": {
        "id": "q7Ad4JUf6yCp"
      },
      "source": [
        "def equation (s,i): \n",
        "  return s-i**2"
      ],
      "execution_count": 54,
      "outputs": []
    }
  ]
}